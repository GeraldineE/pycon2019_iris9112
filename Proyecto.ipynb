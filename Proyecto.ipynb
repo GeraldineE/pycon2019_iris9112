{
 "cells": [
  {
   "cell_type": "markdown",
   "metadata": {},
   "source": [
    "# 1. Se acerca el invierno. Vamos a cargar el conjunto de datos lo antes posible\n",
    "\n",
    "<p> Si no has oído hablar de <em> Juego de Tronos </em>, debes ser realmente bueno escondiéndote!. Juego de Tronos es la popular serie de televisión de HBO basada en la (también) popular serie de libros <em> Una canción de Hielo y Fuego </em> de George R.R. Martin. En este cuaderno, analizaremos la red de co-ocurrencia de los personajes en los libros de Juego de Tronos. Aquí se considera que dos caracteres co-ocurren conjuntamente si sus nombres aparecen cerca de 15 palabras uno del otro en los libros. </p><p> <img src = \"https://s3.amazonaws.com/assets.datacamp.com/production/project_76/img/got_network.jpeg\" style = \"width: 550px\"> </p><p> Este conjunto de datos constituye una red y se proporciona como un archivo de texto que describe las <em> aristas </em> entre los caracteres, con algunos atributos adjuntos a cada arista. Comencemos cargando los datos del primer libro <em> Juego de Tronos </em> y examinémoslo. </p>"
   ]
  },
  {
   "cell_type": "code",
   "execution_count": 2,
   "metadata": {},
   "outputs": [],
   "source": [
    "# Importing modules\n",
    "# ... YOUR CODE FOR TASK 1 ...\n",
    "\n",
    "# Reading in datasets/book1.csv\n",
    "book1 = ...\n",
    "\n",
    "# Printing out the head of the dataset\n",
    "# ... YOUR CODE FOR TASK 1 ..."
   ]
  },
  {
   "cell_type": "markdown",
   "metadata": {},
   "source": [
    "# 2. Tiempo para alguna red de tronos\n",
    "\n"
   ]
  },
  {
   "cell_type": "code",
   "execution_count": null,
   "metadata": {},
   "outputs": [],
   "source": []
  },
  {
   "cell_type": "markdown",
   "metadata": {},
   "source": [
    "# 3. Rellena la red con el DataFrame"
   ]
  },
  {
   "cell_type": "code",
   "execution_count": null,
   "metadata": {},
   "outputs": [],
   "source": []
  },
  {
   "cell_type": "markdown",
   "metadata": {},
   "source": [
    "# 4. Encontrar al personaje más importante en Juego de tronos"
   ]
  },
  {
   "cell_type": "code",
   "execution_count": null,
   "metadata": {},
   "outputs": [],
   "source": []
  },
  {
   "cell_type": "markdown",
   "metadata": {},
   "source": [
    "# 5. Evolución de la importancia de los personajes sobre los libros"
   ]
  },
  {
   "cell_type": "code",
   "execution_count": null,
   "metadata": {},
   "outputs": [],
   "source": []
  },
  {
   "cell_type": "markdown",
   "metadata": {},
   "source": [
    "# 6. ¿Qué pasa con Stannis Baratheon?"
   ]
  },
  {
   "cell_type": "code",
   "execution_count": null,
   "metadata": {},
   "outputs": [],
   "source": []
  },
  {
   "cell_type": "markdown",
   "metadata": {},
   "source": [
    "# 7. ¿Qué nos dice el algoritmo de PageRank de Google sobre Juego de Tronos?"
   ]
  },
  {
   "cell_type": "code",
   "execution_count": null,
   "metadata": {},
   "outputs": [],
   "source": []
  },
  {
   "cell_type": "markdown",
   "metadata": {},
   "source": [
    "# 8. Correlación entre diferentes medidas"
   ]
  },
  {
   "cell_type": "code",
   "execution_count": null,
   "metadata": {},
   "outputs": [],
   "source": []
  },
  {
   "cell_type": "markdown",
   "metadata": {},
   "source": [
    "# 9. Conclusión "
   ]
  },
  {
   "cell_type": "code",
   "execution_count": null,
   "metadata": {},
   "outputs": [],
   "source": []
  }
 ],
 "metadata": {
  "kernelspec": {
   "display_name": "Python 3",
   "language": "python",
   "name": "python3"
  },
  "language_info": {
   "codemirror_mode": {
    "name": "ipython",
    "version": 3
   },
   "file_extension": ".py",
   "mimetype": "text/x-python",
   "name": "python",
   "nbconvert_exporter": "python",
   "pygments_lexer": "ipython3",
   "version": "3.7.0"
  }
 },
 "nbformat": 4,
 "nbformat_minor": 2
}
